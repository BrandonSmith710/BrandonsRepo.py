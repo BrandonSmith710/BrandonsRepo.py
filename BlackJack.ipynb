{
 "cells": [
  {
   "cell_type": "code",
   "execution_count": 1,
   "metadata": {},
   "outputs": [],
   "source": [
    "import random\n",
    "suits = ('Hearts','Diamonds','Spades','Clubs')\n",
    "ranks = ('Two','Three','Four','Five','Six','Seven','Eight','Nine','Ten','Jack','Queen','King','Ace')\n",
    "values = {'Two':2,'Three':3,'Four':4,'Five':5,'Six':6,'Seven':7,'Eight':8,'Nine':9,'Ten':10,'Jack':10,'Queen':10,'King':10,'Ace':11}\n",
    "playing = True"
   ]
  },
  {
   "cell_type": "code",
   "execution_count": 2,
   "metadata": {},
   "outputs": [],
   "source": [
    "class Card():\n",
    "    def __init__(self,suit,rank):\n",
    "        self.suit = suit\n",
    "        self.rank = rank\n",
    "    def __str__(self):\n",
    "        return self.rank + \" of \" + self.suit"
   ]
  },
  {
   "cell_type": "code",
   "execution_count": 3,
   "metadata": {},
   "outputs": [],
   "source": [
    "class Deck():\n",
    "    def __init__(self):\n",
    "        self.deck = []\n",
    "        for suit in suits:\n",
    "            for rank in ranks:\n",
    "                self.deck.append(Card(suit,rank))\n",
    "    def __str__(self):\n",
    "        deck_comp = ''\n",
    "        for card in self.deck:\n",
    "            deck_comp += '\\n' + card.__str__()\n",
    "        return 'The deck has: ' + deck_comp\n",
    "    \n",
    "    def shuffle(self):\n",
    "        random.shuffle(self.deck)\n",
    "    def deal(self):\n",
    "        return self.deck.pop()"
   ]
  },
  {
   "cell_type": "code",
   "execution_count": 4,
   "metadata": {},
   "outputs": [],
   "source": [
    "class Hand():\n",
    "    def __init__(self):\n",
    "        self.cards = []\n",
    "        self.value = 0\n",
    "        self.aces = 0\n",
    "    def add_card(self,card):\n",
    "        self.cards.append(card)\n",
    "        self.value += values[card.rank]\n",
    "        if card.rank == 'Ace':\n",
    "            self.aces += 1\n",
    "    def adjust_for_ace(self):\n",
    "        while self.value > 21 and self.aces > 0:\n",
    "            self.value -= 10\n",
    "            self.aces -= 1\n",
    "        \n",
    "        "
   ]
  },
  {
   "cell_type": "code",
   "execution_count": 5,
   "metadata": {},
   "outputs": [],
   "source": [
    "class Chips():\n",
    "    def __init__(self,total=100):\n",
    "        self.total = total\n",
    "        self.bet = 0\n",
    "    def win_bet(self):\n",
    "        self.total += self.bet\n",
    "    def lose_bet(self):\n",
    "        self.total -= self.bet"
   ]
  },
  {
   "cell_type": "code",
   "execution_count": 6,
   "metadata": {},
   "outputs": [],
   "source": [
    "def take_bet(chips):\n",
    "    while True:\n",
    "        try:\n",
    "            chips.bet = int(input('How much would you like to bet? '))\n",
    "        except:\n",
    "            print('Sorry, please enter an integer')\n",
    "        else:\n",
    "            if chips.bet > chips.total:\n",
    "                print(f'Sorry, not enough chips. You have {chips.total}.')\n",
    "            else:\n",
    "                break"
   ]
  },
  {
   "cell_type": "code",
   "execution_count": 7,
   "metadata": {},
   "outputs": [],
   "source": [
    "def hit(deck,hand):\n",
    "    hand.add_card(deck.deal())\n",
    "    hand.adjust_for_ace()"
   ]
  },
  {
   "cell_type": "code",
   "execution_count": 8,
   "metadata": {},
   "outputs": [],
   "source": [
    "def hit_or_stand(deck,hand):\n",
    "    global playing\n",
    "    while True:\n",
    "        i = input('Hit or Stand? Enter h or s: ')\n",
    "        if i[0].lower() == 'h':\n",
    "            hit(deck,hand)\n",
    "        elif i[0].lower() == 's':\n",
    "            print(\"Player Stayed, Dealer's Turn\")\n",
    "            playing = False\n",
    "        else:\n",
    "            print(\"Sorry, I couldn't understand that\")\n",
    "            continue\n",
    "        break"
   ]
  },
  {
   "cell_type": "code",
   "execution_count": 9,
   "metadata": {},
   "outputs": [],
   "source": [
    "def show_some(player,dealer):\n",
    "    print('DEALERS HAND: ')\n",
    "    print('one card hidden')\n",
    "    print(dealer.cards[1])\n",
    "    print('\\n')\n",
    "    print('PLAYERS HAND: ')\n",
    "    for card in player.cards:\n",
    "        print(card)\n",
    "    \n",
    "def show_all(player,dealer):\n",
    "    print('DEALERS HAND: ')\n",
    "    for card in dealer.cards:\n",
    "        print(card)\n",
    "    print('\\n')\n",
    "    print('PLAYERS HAND: ')\n",
    "    for card in player.cards:\n",
    "        print(card)"
   ]
  },
  {
   "cell_type": "code",
   "execution_count": 10,
   "metadata": {},
   "outputs": [],
   "source": [
    "def player_busts(player,dealer,chips):\n",
    "    print('PLAYER BUSTED')\n",
    "    chips.lose_bet()\n",
    "def player_wins(player,dealer,chips):\n",
    "    print('PLAYER WINS')\n",
    "    chips.win_bet()\n",
    "def dealer_busts(player,dealer,chips):\n",
    "    print('DEALER BUSTED')\n",
    "    chips.win_bet()\n",
    "def dealer_wins(player,dealer,chips):\n",
    "    print('DEALER WINS')\n",
    "    chips.lose_bet()\n",
    "def push(player,dealer):\n",
    "    print('PUSH')"
   ]
  },
  {
   "cell_type": "code",
   "execution_count": 11,
   "metadata": {},
   "outputs": [
    {
     "name": "stdout",
     "output_type": "stream",
     "text": [
      "Welcome to BlackJack\n",
      "How much would you like to bet? 50\n",
      "DEALERS HAND: \n",
      "one card hidden\n",
      "Three of Spades\n",
      "\n",
      "\n",
      "PLAYERS HAND: \n",
      "Ace of Spades\n",
      "Three of Diamonds\n",
      "Hit or Stand? Enter h or s: h\n",
      "DEALERS HAND: \n",
      "one card hidden\n",
      "Three of Spades\n",
      "\n",
      "\n",
      "PLAYERS HAND: \n",
      "Ace of Spades\n",
      "Three of Diamonds\n",
      "Two of Clubs\n",
      "Hit or Stand? Enter h or s: h\n",
      "DEALERS HAND: \n",
      "one card hidden\n",
      "Three of Spades\n",
      "\n",
      "\n",
      "PLAYERS HAND: \n",
      "Ace of Spades\n",
      "Three of Diamonds\n",
      "Two of Clubs\n",
      "Ten of Hearts\n",
      "Hit or Stand? Enter h or s: s\n",
      "Player Stayed, Dealer's Turn\n",
      "DEALERS HAND: \n",
      "one card hidden\n",
      "Three of Spades\n",
      "\n",
      "\n",
      "PLAYERS HAND: \n",
      "Ace of Spades\n",
      "Three of Diamonds\n",
      "Two of Clubs\n",
      "Ten of Hearts\n",
      "DEALERS HAND: \n",
      "King of Spades\n",
      "Three of Spades\n",
      "Seven of Spades\n",
      "\n",
      "\n",
      "PLAYERS HAND: \n",
      "Ace of Spades\n",
      "Three of Diamonds\n",
      "Two of Clubs\n",
      "Ten of Hearts\n",
      "DEALER WINS\n",
      "\n",
      " Player total chips are at: 50\n",
      "Would you like to play another hand? y/n y\n",
      "Welcome to BlackJack\n",
      "How much would you like to bet? 90\n",
      "DEALERS HAND: \n",
      "one card hidden\n",
      "Ace of Diamonds\n",
      "\n",
      "\n",
      "PLAYERS HAND: \n",
      "Two of Spades\n",
      "Two of Diamonds\n",
      "Hit or Stand? Enter h or s: h\n",
      "DEALERS HAND: \n",
      "one card hidden\n",
      "Ace of Diamonds\n",
      "\n",
      "\n",
      "PLAYERS HAND: \n",
      "Two of Spades\n",
      "Two of Diamonds\n",
      "Five of Diamonds\n",
      "Hit or Stand? Enter h or s: h\n",
      "DEALERS HAND: \n",
      "one card hidden\n",
      "Ace of Diamonds\n",
      "\n",
      "\n",
      "PLAYERS HAND: \n",
      "Two of Spades\n",
      "Two of Diamonds\n",
      "Five of Diamonds\n",
      "Eight of Diamonds\n",
      "Hit or Stand? Enter h or s: h\n",
      "DEALERS HAND: \n",
      "one card hidden\n",
      "Ace of Diamonds\n",
      "\n",
      "\n",
      "PLAYERS HAND: \n",
      "Two of Spades\n",
      "Two of Diamonds\n",
      "Five of Diamonds\n",
      "Eight of Diamonds\n",
      "Nine of Spades\n",
      "PLAYER BUSTED\n",
      "\n",
      " Player total chips are at: 10\n",
      "Would you like to play another hand? y/n n\n",
      "Thank you for playing!\n"
     ]
    }
   ],
   "source": [
    "while True:\n",
    "    print('Welcome to BlackJack')\n",
    "\n",
    "    new_deck = Deck()\n",
    "    new_deck.shuffle()\n",
    "\n",
    "    player = Hand()\n",
    "    player.add_card(new_deck.deal())\n",
    "    player.add_card(new_deck.deal())\n",
    "\n",
    "    dealer = Hand()\n",
    "    dealer.add_card(new_deck.deal())\n",
    "    dealer.add_card(new_deck.deal())\n",
    "    \n",
    "    player_chips = Chips()\n",
    "\n",
    "    take_bet(player_chips)\n",
    "    \n",
    "    show_some(player,dealer)\n",
    "    \n",
    "    while playing:\n",
    "        hit_or_stand(new_deck,player)\n",
    "        show_some(player,dealer)\n",
    "        if player.value > 21:\n",
    "            player_busts(player,dealer,player_chips)\n",
    "            break\n",
    "    if player.value <= 21:\n",
    "        while dealer.value < player.value:\n",
    "            hit(new_deck,dealer)\n",
    "        show_all(player,dealer)\n",
    "        if dealer.value > 21:\n",
    "            dealer_busts(player,dealer,player_chips)\n",
    "        elif dealer.value > player.value:\n",
    "            dealer_wins(player,dealer,player_chips)\n",
    "        elif dealer.value < player.value:\n",
    "            player_wins(player,dealer,player_chips)\n",
    "        else:\n",
    "            push(player,dealer)\n",
    "    print('\\n Player total chips are at: {}'.format(player_chips.total))\n",
    "    new_game = input('Would you like to play another hand? y/n ')\n",
    "    if new_game[0].lower() == 'y':\n",
    "        playing = True\n",
    "        continue\n",
    "    else:\n",
    "        print('Thank you for playing!')\n",
    "        break\n",
    "    \n",
    "                "
   ]
  },
  {
   "cell_type": "code",
   "execution_count": 1,
   "metadata": {},
   "outputs": [
    {
     "data": {
      "text/plain": [
       "'0b11000'"
      ]
     },
     "execution_count": 1,
     "metadata": {},
     "output_type": "execute_result"
    }
   ],
   "source": [
    "bin(24)"
   ]
  },
  {
   "cell_type": "code",
   "execution_count": 2,
   "metadata": {},
   "outputs": [
    {
     "data": {
      "text/plain": [
       "'0b1011'"
      ]
     },
     "execution_count": 2,
     "metadata": {},
     "output_type": "execute_result"
    }
   ],
   "source": [
    "bin(11)"
   ]
  },
  {
   "cell_type": "code",
   "execution_count": 3,
   "metadata": {},
   "outputs": [
    {
     "data": {
      "text/plain": [
       "'0b11'"
      ]
     },
     "execution_count": 3,
     "metadata": {},
     "output_type": "execute_result"
    }
   ],
   "source": [
    "bin(3)"
   ]
  },
  {
   "cell_type": "code",
   "execution_count": 10,
   "metadata": {},
   "outputs": [
    {
     "name": "stdout",
     "output_type": "stream",
     "text": [
      "32\n",
      "24\n",
      "16\n"
     ]
    }
   ],
   "source": [
    "for x in range(4,1,-1):\n",
    "    print(x*8)"
   ]
  },
  {
   "cell_type": "code",
   "execution_count": 13,
   "metadata": {},
   "outputs": [
    {
     "name": "stdout",
     "output_type": "stream",
     "text": [
      "5\n",
      "4\n",
      "3\n",
      "2\n",
      "1\n"
     ]
    }
   ],
   "source": [
    "for x in range(5,0,-1):\n",
    "    print(x)"
   ]
  },
  {
   "cell_type": "code",
   "execution_count": 14,
   "metadata": {},
   "outputs": [
    {
     "data": {
      "text/plain": [
       "'0b1000101011'"
      ]
     },
     "execution_count": 14,
     "metadata": {},
     "output_type": "execute_result"
    }
   ],
   "source": [
    "bin(555)"
   ]
  },
  {
   "cell_type": "code",
   "execution_count": 15,
   "metadata": {},
   "outputs": [
    {
     "data": {
      "text/plain": [
       "101"
      ]
     },
     "execution_count": 15,
     "metadata": {},
     "output_type": "execute_result"
    }
   ],
   "source": [
    "int(101)"
   ]
  },
  {
   "cell_type": "code",
   "execution_count": 16,
   "metadata": {},
   "outputs": [
    {
     "data": {
      "text/plain": [
       "'0x65'"
      ]
     },
     "execution_count": 16,
     "metadata": {},
     "output_type": "execute_result"
    }
   ],
   "source": [
    "hex(101)"
   ]
  },
  {
   "cell_type": "code",
   "execution_count": 20,
   "metadata": {},
   "outputs": [],
   "source": [
    "x = ['101','101','101']"
   ]
  },
  {
   "cell_type": "code",
   "execution_count": 21,
   "metadata": {},
   "outputs": [
    {
     "name": "stdout",
     "output_type": "stream",
     "text": [
      "5\n",
      "5\n",
      "5\n"
     ]
    }
   ],
   "source": [
    "for a in x:\n",
    "    print(str(int(a,2)))"
   ]
  },
  {
   "cell_type": "code",
   "execution_count": 27,
   "metadata": {},
   "outputs": [
    {
     "ename": "ValueError",
     "evalue": "invalid literal for int() with base 2: '90'",
     "output_type": "error",
     "traceback": [
      "\u001b[1;31m---------------------------------------------------------------------------\u001b[0m",
      "\u001b[1;31mValueError\u001b[0m                                Traceback (most recent call last)",
      "\u001b[1;32m<ipython-input-27-6bb09382b83f>\u001b[0m in \u001b[0;36m<module>\u001b[1;34m\u001b[0m\n\u001b[1;32m----> 1\u001b[1;33m \u001b[0mstr\u001b[0m\u001b[1;33m(\u001b[0m\u001b[0mint\u001b[0m\u001b[1;33m(\u001b[0m\u001b[1;34m'90'\u001b[0m\u001b[1;33m,\u001b[0m\u001b[1;36m2\u001b[0m\u001b[1;33m)\u001b[0m\u001b[1;33m)\u001b[0m\u001b[1;33m\u001b[0m\u001b[1;33m\u001b[0m\u001b[0m\n\u001b[0m",
      "\u001b[1;31mValueError\u001b[0m: invalid literal for int() with base 2: '90'"
     ]
    }
   ],
   "source": [
    "str(int('90',2))"
   ]
  },
  {
   "cell_type": "code",
   "execution_count": 28,
   "metadata": {},
   "outputs": [
    {
     "ename": "SyntaxError",
     "evalue": "leading zeros in decimal integer literals are not permitted; use an 0o prefix for octal integers (<ipython-input-28-05fc68ef5e05>, line 1)",
     "output_type": "error",
     "traceback": [
      "\u001b[1;36m  File \u001b[1;32m\"<ipython-input-28-05fc68ef5e05>\"\u001b[1;36m, line \u001b[1;32m1\u001b[0m\n\u001b[1;33m    bin(01000)\u001b[0m\n\u001b[1;37m            ^\u001b[0m\n\u001b[1;31mSyntaxError\u001b[0m\u001b[1;31m:\u001b[0m leading zeros in decimal integer literals are not permitted; use an 0o prefix for octal integers\n"
     ]
    }
   ],
   "source": [
    "bin(01000)"
   ]
  },
  {
   "cell_type": "code",
   "execution_count": null,
   "metadata": {},
   "outputs": [],
   "source": []
  }
 ],
 "metadata": {
  "kernelspec": {
   "display_name": "Python 3",
   "language": "python",
   "name": "python3"
  },
  "language_info": {
   "codemirror_mode": {
    "name": "ipython",
    "version": 3
   },
   "file_extension": ".py",
   "mimetype": "text/x-python",
   "name": "python",
   "nbconvert_exporter": "python",
   "pygments_lexer": "ipython3",
   "version": "3.8.5"
  }
 },
 "nbformat": 4,
 "nbformat_minor": 4
}
